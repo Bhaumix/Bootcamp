{
 "cells": [
  {
   "cell_type": "code",
   "execution_count": 57,
   "metadata": {},
   "outputs": [],
   "source": [
    "def solution(arr):\n",
    "    tmp = 0\n",
    "    count = 0\n",
    "    \n",
    "    for a in range(len(arr)):\n",
    "        for b in range(len(arr)):\n",
    "            for c in range(len(arr)):\n",
    "                for d in range(len(arr)):\n",
    "                    if (a != b) and (a != c) and (a != d) and (b != c) and (b != d) and (c != d):\n",
    "                        if(10*arr[c]+arr[d] < 60):\n",
    "                            cal = (10 * arr[a] + arr[b]) * 60 + (10 * arr[c] + arr[d])\n",
    "                            #print(arr[a], arr[b], arr[c], arr[d])\n",
    "                        if cal <= 1439:\n",
    "                            count = count+1\n",
    "                            if(tmp < cal):\n",
    "                                tmp = cal\n",
    "                                nA = arr[a]\n",
    "                                nB = arr[b]\n",
    "                                nC = arr[c]\n",
    "                                nD = arr[d]\n",
    "    if count == 0:\n",
    "        return \"impossible\"\n",
    "    else:\n",
    "        return (str(nA)+str(nB)+\":\"+str(nC)+str(nD))\n",
    "                    \n",
    "    \n",
    "  "
   ]
  },
  {
   "cell_type": "code",
   "execution_count": 58,
   "metadata": {
    "scrolled": false
   },
   "outputs": [
    {
     "data": {
      "text/plain": [
       "'23:10'"
      ]
     },
     "execution_count": 58,
     "metadata": {},
     "output_type": "execute_result"
    }
   ],
   "source": [
    "A = [0,1,2,3]\n",
    "solution(A)"
   ]
  },
  {
   "cell_type": "code",
   "execution_count": null,
   "metadata": {
    "collapsed": true
   },
   "outputs": [],
   "source": []
  }
 ],
 "metadata": {
  "kernelspec": {
   "display_name": "Python 3",
   "language": "python",
   "name": "python3"
  },
  "language_info": {
   "codemirror_mode": {
    "name": "ipython",
    "version": 3
   },
   "file_extension": ".py",
   "mimetype": "text/x-python",
   "name": "python",
   "nbconvert_exporter": "python",
   "pygments_lexer": "ipython3",
   "version": "3.6.1"
  }
 },
 "nbformat": 4,
 "nbformat_minor": 2
}
