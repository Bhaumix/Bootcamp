{
 "cells": [
  {
   "cell_type": "code",
   "execution_count": null,
   "metadata": {
    "collapsed": true
   },
   "outputs": [],
   "source": [
    "from sets import Set\n",
    "def findLongestConseqSubseq(arr, n):\n",
    " \n",
    "    s = Set()\n",
    "    ans=0\n",
    " \n",
    "    # Hash all the array elements\n",
    "    for ele in arr:\n",
    "        s.add(ele)\n",
    " \n",
    "    # check each possible sequence from the start\n",
    "    # then update optimal length\n",
    "    for i in range(n):\n",
    " \n",
    "         # if current element is the starting\n",
    "        # element of a sequence\n",
    "        if (arr[i]-1) not in s:\n",
    " \n",
    "            # Then check for next elements in the\n",
    "            # sequence\n",
    "            j=arr[i]\n",
    "            while(j in s):\n",
    "                j+=1\n",
    " \n",
    "            # update  optimal length if this length\n",
    "            # is more\n",
    "            ans=max(ans, j-arr[i])\n",
    "    return ans"
   ]
  }
 ],
 "metadata": {
  "kernelspec": {
   "display_name": "Python 3",
   "language": "python",
   "name": "python3"
  },
  "language_info": {
   "codemirror_mode": {
    "name": "ipython",
    "version": 3
   },
   "file_extension": ".py",
   "mimetype": "text/x-python",
   "name": "python",
   "nbconvert_exporter": "python",
   "pygments_lexer": "ipython3",
   "version": "3.6.1"
  }
 },
 "nbformat": 4,
 "nbformat_minor": 2
}
